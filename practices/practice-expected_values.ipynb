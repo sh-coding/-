{
  "cells": [
    {
      "cell_type": "markdown",
      "metadata": {
        "id": "view-in-github",
        "colab_type": "text"
      },
      "source": [
        "<a href=\"https://colab.research.google.com/github/sh-coding/-/blob/main/practices/practice-expected_values.ipynb\" target=\"_parent\"><img src=\"https://colab.research.google.com/assets/colab-badge.svg\" alt=\"Open In Colab\"/></a>"
      ]
    },
    {
      "cell_type": "markdown",
      "metadata": {
        "ExecuteTime": {
          "end_time": "2018-03-06T03:37:40.696920Z",
          "start_time": "2018-03-06T03:37:40.690655Z"
        },
        "id": "xqLK66yXgZlp"
      },
      "source": [
        "# (연습) 기댓값과 분산"
      ]
    },
    {
      "cell_type": "markdown",
      "metadata": {
        "id": "HMsTmf3mgZlq"
      },
      "source": [
        "**기본 설정**"
      ]
    },
    {
      "cell_type": "markdown",
      "metadata": {
        "ExecuteTime": {
          "end_time": "2018-08-03T08:26:15.690793Z",
          "start_time": "2018-08-03T08:26:15.507201Z"
        },
        "id": "pgFzHWcZgZlq"
      },
      "source": [
        "Numpy와 Pandas 라이브러리를 각각 np와 pd로 불러온다."
      ]
    },
    {
      "cell_type": "code",
      "execution_count": 2,
      "metadata": {
        "ExecuteTime": {
          "end_time": "2018-08-14T06:43:30.149227Z",
          "start_time": "2018-08-14T06:43:29.960007Z"
        },
        "id": "vjOemdZRgZlq"
      },
      "outputs": [],
      "source": [
        "import numpy as np\n",
        "import pandas as pd"
      ]
    },
    {
      "cell_type": "markdown",
      "metadata": {
        "id": "GsYBctXmgZlr"
      },
      "source": [
        "데이터프레임의 [chained indexing을 금지시키기 위한 설정](https://pandas.pydata.org/pandas-docs/stable/user_guide/indexing.html#returning-a-view-versus-a-copy)을 지정한다.\n",
        "Pandas 3.0 버전부터는 기본 옵션으로 지정된다."
      ]
    },
    {
      "cell_type": "code",
      "execution_count": 3,
      "metadata": {
        "id": "EM1t76kggZlr"
      },
      "outputs": [],
      "source": [
        "pd.options.mode.copy_on_write = True"
      ]
    },
    {
      "cell_type": "markdown",
      "metadata": {
        "ExecuteTime": {
          "end_time": "2018-08-14T06:43:30.149227Z",
          "start_time": "2018-08-14T06:43:29.960007Z"
        },
        "id": "Ko2bvQBXgZls"
      },
      "source": [
        "주피터 노트북에서 부동소수점의 출력을 소수점 이하 6자리로 제한한다.\n",
        "아래 코드는 주피터 노트북에서만 사용하며 일반적인 파이썬 코드가 아니다."
      ]
    },
    {
      "cell_type": "code",
      "execution_count": 4,
      "metadata": {
        "ExecuteTime": {
          "end_time": "2018-08-14T06:43:30.149227Z",
          "start_time": "2018-08-14T06:43:29.960007Z"
        },
        "colab": {
          "base_uri": "https://localhost:8080/",
          "height": 35
        },
        "id": "IsE-yNrggZls",
        "outputId": "0a4dcf6d-4a76-41d2-9ad0-3dc83044a57f"
      },
      "outputs": [
        {
          "output_type": "execute_result",
          "data": {
            "text/plain": [
              "'%.6f'"
            ],
            "application/vnd.google.colaboratory.intrinsic+json": {
              "type": "string"
            }
          },
          "metadata": {},
          "execution_count": 4
        }
      ],
      "source": [
        "%precision 6"
      ]
    },
    {
      "cell_type": "markdown",
      "metadata": {
        "ExecuteTime": {
          "end_time": "2018-08-14T06:43:30.149227Z",
          "start_time": "2018-08-14T06:43:29.960007Z"
        },
        "id": "BcFae_U1gZls"
      },
      "source": [
        "아래 코드는 데이터프레임 내에서 부동소수점의 출력을 소수점 이하 6자리로 제한한다."
      ]
    },
    {
      "cell_type": "code",
      "execution_count": 5,
      "metadata": {
        "ExecuteTime": {
          "end_time": "2018-08-14T06:43:30.149227Z",
          "start_time": "2018-08-14T06:43:29.960007Z"
        },
        "id": "_eyfPY7mgZlt"
      },
      "outputs": [],
      "source": [
        "pd.set_option('display.precision', 6)"
      ]
    },
    {
      "cell_type": "markdown",
      "metadata": {
        "id": "M3pKwXKMgZlt"
      },
      "source": [
        "데이터 시각화를 위해 `matplotlib.pyplot`를 `plt`라는 별칭으로 불러온다."
      ]
    },
    {
      "cell_type": "code",
      "execution_count": 6,
      "metadata": {
        "id": "wuYq7USSgZlt"
      },
      "outputs": [],
      "source": [
        "import matplotlib.pyplot as plt"
      ]
    },
    {
      "cell_type": "markdown",
      "metadata": {
        "id": "_QcIC-UDgZlt"
      },
      "source": [
        "**데이터 저장소 디렉토리**"
      ]
    },
    {
      "cell_type": "markdown",
      "metadata": {
        "id": "4fzs_Lb1gZlt"
      },
      "source": [
        "코드에 사용되는 [데이터 저장소의 기본 디렉토리](https://github.com/codingalzi/DataSci/tree/master/data)를 지정한다."
      ]
    },
    {
      "cell_type": "code",
      "execution_count": 7,
      "metadata": {
        "id": "KbhIFXMHgZlt"
      },
      "outputs": [],
      "source": [
        "data_url = 'https://raw.githubusercontent.com/codingalzi/DataSci/refs/heads/master/data/'"
      ]
    },
    {
      "cell_type": "markdown",
      "metadata": {
        "id": "OLtWbPVDgZlt"
      },
      "source": [
        "## 이산 확률 변수에 대한 기댓값과 분산"
      ]
    },
    {
      "cell_type": "markdown",
      "metadata": {
        "id": "UhfAMK2_gZlt"
      },
      "source": [
        "**문제 1 (포아송 분포)**"
      ]
    },
    {
      "cell_type": "markdown",
      "metadata": {
        "id": "ORL-zMc4gZlu"
      },
      "source": [
        "이산 확률 분포에서\n",
        "**포아송 분포**<font size='2'>Poisson distribution</font>는\n",
        "단위 시간 동안 또는 단위 공간에서 어떤 사건이 무작위로 발생하는 빈도를 가리키는 확률 변수의 분포다.\n",
        "\n",
        "'단위 시간'은 1초, 1분, 30분, 1시간, 하루 등 특정 시간 간격을,\n",
        "'단위 공간'은 구간, 거리, 공장, 병원, 프로그램 등 특정 기준의 크기로\n",
        "표현되는 공간의 크기를 가리킨다.\n",
        "\n",
        "포아송 분포 예제:\n",
        "\n",
        "- 일정 시간 동안의 매장 방문객 수\n",
        "- 1킬로미터 당 횡단보도 수\n",
        "- 10분 당 생산되는 불량제품 수\n",
        "- 소스코드 100줄 당 오타 수\n",
        "- 하루 동안의 응급환자 발생 수\n",
        "\n",
        "예를 들어, 일평균 $\\lambda$ 명의 응급환자가 발생하는 병원에서 하루 동안 발생하는 응급환자의 수를\n",
        "확률 변수 `X`가 가리킨다고 하자.\n",
        "그러면 하루에 $x$ 명의 응급환자가 발생할 확률을 계산하는\n",
        "확률 질량 함수는 다음과 같다.\n",
        "\n",
        "$$\n",
        "f(x) = \\frac{\\lambda^x\\, e^{-\\lambda}}{x!}\n",
        "$$\n",
        "\n",
        "단, $x$는 음이 아닌 정수를 가리킨다.\n",
        "\n",
        "포아송 분포를 따르는 이산 확률 변수 `X`에 대한 기댓값과 분산은 다음과 같다.\n",
        "\n",
        "$$\n",
        "E[X] = \\lambda, \\qquad V(X) = \\lambda\n",
        "$$"
      ]
    },
    {
      "cell_type": "markdown",
      "metadata": {
        "id": "MG9tzbp7gZlu"
      },
      "source": [
        "아래 `f_poisson()` 함수는 포아송 분포의 확률 질량 함수를 구현하며\n",
        "두 개의 매개 변수를 사용한다.\n",
        "\n",
        "- `x`: 확률 변수 $X$가 가리키는 값, 즉 단위 시간 당 사건 발생 횟수. 단 0에서 20까지만 값을 취함.\n",
        "    `x`가 20보다 크면 $f(x)$는 사실상 0으로 간주될 정도로 매우 작음.\n",
        "- `lam`: $\\lambda$ 에 해당하는 값, 즉 단위 시간 당 사건 평균 발생 횟수.\n"
      ]
    },
    {
      "cell_type": "code",
      "execution_count": 1,
      "metadata": {
        "id": "N4wVmBJVgZlu"
      },
      "outputs": [],
      "source": [
        "from scipy.special import factorial\n",
        "\n",
        "def f_poisson(x, lam):\n",
        "    if x in range(21):\n",
        "        return np.power(lam, x) * np.exp(-lam) / factorial(x)\n",
        "    else:\n",
        "        return 0"
      ]
    },
    {
      "cell_type": "markdown",
      "metadata": {
        "id": "6qcPbcLCgZlu"
      },
      "source": [
        "하루 평균 5명의 응급환자가 발생한다고 가정하자.\n",
        "즉, $\\lambda = 5$로 지정한다."
      ]
    },
    {
      "cell_type": "markdown",
      "metadata": {
        "id": "B2Aqmx2XgZlu"
      },
      "source": [
        "(1) 병원에서 하루에 2명의 응급환자가 발생할 확률을 계산하라."
      ]
    },
    {
      "cell_type": "code",
      "execution_count": 42,
      "metadata": {
        "colab": {
          "base_uri": "https://localhost:8080/"
        },
        "id": "HJdSlGH7gZlu",
        "outputId": "e803ac2c-e5af-4ce4-d526-a4a9b2c2b822"
      },
      "outputs": [
        {
          "output_type": "execute_result",
          "data": {
            "text/plain": [
              "np.float64(0.08422433748856833)"
            ]
          },
          "metadata": {},
          "execution_count": 42
        }
      ],
      "source": [
        "# 코드를 작성한다.\n",
        "# 필요하면 코드셀 또는 텍스트셀을 추가할 수 있습니다.\n",
        "f_poisson(2, 5)"
      ]
    },
    {
      "cell_type": "code",
      "source": [],
      "metadata": {
        "colab": {
          "base_uri": "https://localhost:8080/"
        },
        "id": "N2jcsunO-n_3",
        "outputId": "207d3e5b-9f4d-4cfb-ccc3-5ed36f3d4f38"
      },
      "execution_count": 46,
      "outputs": [
        {
          "output_type": "execute_result",
          "data": {
            "text/plain": [
              "np.float64(0.49130863534998204)"
            ]
          },
          "metadata": {},
          "execution_count": 46
        }
      ]
    },
    {
      "cell_type": "markdown",
      "metadata": {
        "id": "_hCjAvqZgZlu"
      },
      "source": [
        "(2) 병원에서 하루에 3명에서 5명 사이의 응급환자가 발생할 확률을 계산하라."
      ]
    },
    {
      "cell_type": "code",
      "execution_count": 43,
      "metadata": {
        "colab": {
          "base_uri": "https://localhost:8080/"
        },
        "id": "JtaiAV90gZlu",
        "outputId": "01d7ca15-73d8-457c-fe08-7bf1a164ee3c"
      },
      "outputs": [
        {
          "output_type": "execute_result",
          "data": {
            "text/plain": [
              "np.float64(0.491308635349982)"
            ]
          },
          "metadata": {},
          "execution_count": 43
        }
      ],
      "source": [
        "# 코드를 작성한다.\n",
        "# 필요하면 코드셀 또는 텍스트셀을 추가할 수 있습니다.\n",
        "f_poisson(3, 5) + f_poisson(4, 5) + f_poisson(5, 5)"
      ]
    },
    {
      "cell_type": "code",
      "source": [
        "def poisson_sum(x, lam):\n",
        "    return sum(f_poisson(k, lam) for k in range(x + 1))\n",
        "\n",
        "def poisson_sum_range(x_start, x_end, lam):\n",
        "    return poisson_sum(x_end, lam) - poisson_sum(x_start - 1, lam)\n",
        "\n",
        "poisson_sum_range(3,5,5)"
      ],
      "metadata": {
        "colab": {
          "base_uri": "https://localhost:8080/"
        },
        "id": "sseaU5Xm-1ZO",
        "outputId": "eae3ee82-03bc-423c-c554-3dc263fced56"
      },
      "execution_count": 47,
      "outputs": [
        {
          "output_type": "execute_result",
          "data": {
            "text/plain": [
              "np.float64(0.49130863534998204)"
            ]
          },
          "metadata": {},
          "execution_count": 47
        }
      ]
    },
    {
      "cell_type": "code",
      "source": [
        "from scipy.stats import poisson\n",
        "\n",
        "y1 = poisson(5).pmf(3) + poisson(5).pmf(4) + poisson(5).pmf(5)\n",
        "y1"
      ],
      "metadata": {
        "colab": {
          "base_uri": "https://localhost:8080/"
        },
        "id": "y4X28a8jBlRp",
        "outputId": "c3c15c7a-f4fb-41f8-ce7c-fbae69c714d0"
      },
      "execution_count": 54,
      "outputs": [
        {
          "output_type": "execute_result",
          "data": {
            "text/plain": [
              "np.float64(0.4913086353499818)"
            ]
          },
          "metadata": {},
          "execution_count": 54
        }
      ]
    },
    {
      "cell_type": "code",
      "source": [
        "y2 = poisson.cdf(5,5) - poisson.cdf(2,5)\n",
        "y2"
      ],
      "metadata": {
        "colab": {
          "base_uri": "https://localhost:8080/"
        },
        "id": "xniQWeN9Cygv",
        "outputId": "248d9357-d167-4910-b712-1459e462ad05"
      },
      "execution_count": 57,
      "outputs": [
        {
          "output_type": "execute_result",
          "data": {
            "text/plain": [
              "np.float64(0.49130863534998187)"
            ]
          },
          "metadata": {},
          "execution_count": 57
        }
      ]
    },
    {
      "cell_type": "markdown",
      "metadata": {
        "id": "G2UgFiyvgZlv"
      },
      "source": [
        "(3) 확률 변수 `X`의 기댓값과 분산이 5로 계산됨을 확인하라."
      ]
    },
    {
      "cell_type": "code",
      "execution_count": 10,
      "metadata": {
        "id": "L_rainoigZlv"
      },
      "outputs": [],
      "source": [
        "# 코드를 작성한다.\n",
        "# 필요하면 코드셀 또는 텍스트셀을 추가할 수 있습니다.\n"
      ]
    },
    {
      "cell_type": "markdown",
      "metadata": {
        "id": "ISzpNz1bgZlv"
      },
      "source": [
        "(4) 확률 변수 `X`의 확률 분포, 즉 $\\lambda=5$일 때의 포아송 분포를 (막대) 그래프로 그려라."
      ]
    },
    {
      "cell_type": "code",
      "execution_count": 11,
      "metadata": {
        "id": "Hsu4TzULgZlv"
      },
      "outputs": [],
      "source": [
        "# 코드를 작성한다.\n",
        "# 필요하면 코드셀 또는 텍스트셀을 추가할 수 있습니다.\n"
      ]
    },
    {
      "cell_type": "markdown",
      "metadata": {
        "id": "AYKOkUOHgZlv"
      },
      "source": [
        "**문제 2 (포아송 분포)**"
      ]
    },
    {
      "cell_type": "markdown",
      "metadata": {
        "id": "8uFfR85LgZlv"
      },
      "source": [
        "`scipy.stats` 모듈의 `poisson` 객체가 포아송 분포를 따르는 확률 변수를 가리킨다.\n",
        "`poisson` 은 `scipy.stats` 모듈의 `rv_discrete` 클래스의 인스턴스이며,\n",
        "확률 질량 함수(pmf), 누적 분포 함수(cdf) 등 이산 확률 분포의 기본 기능을\n",
        "인스턴스 메서드로 제공한다."
      ]
    },
    {
      "cell_type": "code",
      "execution_count": 12,
      "metadata": {
        "id": "KanyR4KjgZlv"
      },
      "outputs": [],
      "source": [
        "from scipy.stats import poisson"
      ]
    },
    {
      "cell_type": "markdown",
      "metadata": {
        "id": "etdSKCzrgZlv"
      },
      "source": [
        "예를 들어, 포아송 분포의 특성을 지정할 때 사용되는 모수 $\\lambda$가 5일 때의\n",
        "포아송 분포를 따르는 확률 변수를 가리키는 객체를 두 가지 방식으로 정의할 수 있다.\n",
        "\n",
        "참고로 변수 이름에 사용되는 `rv`는 random variable, 즉 확률 변수의 줄임말이다."
      ]
    },
    {
      "cell_type": "markdown",
      "metadata": {
        "id": "GM-D6re2gZlv"
      },
      "source": [
        "- 방식 1: 모수 고정"
      ]
    },
    {
      "cell_type": "code",
      "execution_count": 13,
      "metadata": {
        "id": "l_6vPMeIgZlv"
      },
      "outputs": [],
      "source": [
        "lam = 5\n",
        "\n",
        "rv_poisson5 = poisson(lam)"
      ]
    },
    {
      "cell_type": "markdown",
      "metadata": {
        "id": "-e9OWJT5gZlw"
      },
      "source": [
        "`poisson` 객체의 `pmf()` 메서드, `cdf()` 메서드가\n",
        "각각 확률 질량 함수, 누적 분포 함수를 가리킨다.\n",
        "`lam=5`일 때의 포아송 분포의 막대그래프를 그리면 앞서 그린 그래프와 동일하게 그려진다.\n",
        "여기서도 `range(21)`을 확률 변수의 범위로 지정한다."
      ]
    },
    {
      "cell_type": "code",
      "execution_count": 14,
      "metadata": {
        "colab": {
          "base_uri": "https://localhost:8080/",
          "height": 472
        },
        "id": "dkA852m8gZlw",
        "outputId": "1b9c5360-aa3f-43b9-eda1-d419c23f769c"
      },
      "outputs": [
        {
          "output_type": "display_data",
          "data": {
            "text/plain": [
              "<Figure size 640x480 with 1 Axes>"
            ],
            "image/png": "[encoded data removed]"
          },
          "metadata": {}
        }
      ],
      "source": [
        "fig = plt.figure()\n",
        "ax = fig.add_subplot(111)\n",
        "\n",
        "xs = range(21)\n",
        "ax.bar(xs, rv_poisson5.pmf(xs))\n",
        "\n",
        "ax.set_title('Poisson distribution')\n",
        "ax.set_xlabel('Frequency per unit')\n",
        "ax.set_ylabel('Probability')\n",
        "\n",
        "ax.set_xticks(np.arange(21))\n",
        "ax.set_xticklabels(range(21))\n",
        "\n",
        "plt.show()"
      ]
    },
    {
      "cell_type": "markdown",
      "metadata": {
        "id": "smwKnzqcgZlw"
      },
      "source": [
        "- 방식 2: 모수 파라미터 활용"
      ]
    },
    {
      "cell_type": "code",
      "execution_count": 15,
      "metadata": {
        "id": "mO65Ug0GgZlw"
      },
      "outputs": [],
      "source": [
        "rv_poisson = poisson"
      ]
    },
    {
      "cell_type": "markdown",
      "metadata": {
        "id": "vlAETQgogZlz"
      },
      "source": [
        "`poisson` 객체의 `pmf()` 메서드, `cdf()` 메서드 등을 호출할 때 모수 파라미터를 항상 함께 사용해야 한다.\n",
        "아래 그래프에서도 `range(21)`을 확률 변수의 범위로 지정한다."
      ]
    },
    {
      "cell_type": "code",
      "execution_count": 16,
      "metadata": {
        "colab": {
          "base_uri": "https://localhost:8080/",
          "height": 472
        },
        "id": "KKsC1AcKgZl0",
        "outputId": "2404b513-5bed-47df-b966-cbdde747e34e"
      },
      "outputs": [
        {
          "output_type": "display_data",
          "data": {
            "text/plain": [
              "<Figure size 640x480 with 1 Axes>"
            ],
            "image/png": "[encoded data removed]"
          },
          "metadata": {}
        }
      ],
      "source": [
        "fig = plt.figure()\n",
        "ax = fig.add_subplot(111)\n",
        "\n",
        "lam = 5\n",
        "\n",
        "xs = range(21)\n",
        "ax.bar(xs, rv_poisson.pmf(xs, lam))\n",
        "\n",
        "ax.set_title('Poisson distribution')\n",
        "ax.set_xlabel('Frequency per unit')\n",
        "ax.set_ylabel('Probability')\n",
        "\n",
        "ax.set_xticks(np.arange(21))\n",
        "ax.set_xticklabels(range(21))\n",
        "\n",
        "plt.show()"
      ]
    },
    {
      "cell_type": "markdown",
      "metadata": {
        "id": "H2Zyv5OegZl0"
      },
      "source": [
        "(1) $\\lambda$ 에 대한 모수를 3, 7, 10 등으로 변화시킬 때 포아송 분포의 막대그래프를 확인하라."
      ]
    },
    {
      "cell_type": "code",
      "execution_count": 17,
      "metadata": {
        "id": "o3I2Er_fgZl0"
      },
      "outputs": [],
      "source": [
        "# 코드를 작성한다.\n",
        "# 필요하면 코드셀 또는 텍스트셀을 추가할 수 있습니다.\n"
      ]
    },
    {
      "cell_type": "markdown",
      "metadata": {
        "id": "B1Ny6OIDgZl0"
      },
      "source": [
        "(2) 선그래프를 이용하여 $\\lambda$ 에 대한 모수가 1, 2, 3, 5, 7, 10일 때의 확률 질량 함수 그래프를 함께 그려서\n",
        "기댓값이 커질 수록 봉우리가 오른쪽으로 이동하면서 낮아지는 사실을 확인하라."
      ]
    },
    {
      "cell_type": "code",
      "execution_count": 18,
      "metadata": {
        "id": "bZeLI-65gZl0"
      },
      "outputs": [],
      "source": [
        "# 코드를 작성한다.\n",
        "# 필요하면 코드셀 또는 텍스트셀을 추가할 수 있습니다.\n"
      ]
    },
    {
      "cell_type": "markdown",
      "metadata": {
        "id": "EZoVjj_OgZl0"
      },
      "source": [
        "**문제 3 (포아송 분포)**"
      ]
    },
    {
      "cell_type": "markdown",
      "metadata": {
        "id": "sRTISVGlgZl0"
      },
      "source": [
        "포아송 분포는 다양한 현상에 적용될 수 있다.\n",
        "`rv_poisson` 변수가 가리키는 `poisson` 객체를 이용하여 아래 질문에 답하라."
      ]
    },
    {
      "cell_type": "markdown",
      "metadata": {
        "id": "zMPmtPeYgZl0"
      },
      "source": [
        "(1) 쇼핑몰 콜센터에 한 시간 동안 평균 60회 문의전화가 걸려온다.\n",
        "5분 동안 전화가 3회에서 5회 걸려올 확률은 얼마인가?"
      ]
    },
    {
      "cell_type": "code",
      "execution_count": 19,
      "metadata": {
        "id": "lBps02OYgZl0"
      },
      "outputs": [],
      "source": [
        "# 코드를 작성한다.\n",
        "# 필요하면 코드셀 또는 텍스트셀을 추가할 수 있습니다.\n"
      ]
    },
    {
      "cell_type": "markdown",
      "metadata": {
        "id": "cdsv1I3agZl1"
      },
      "source": [
        "(2) 새로 포장된 도로에 한달 동안 1km 당 평균 2회 도로파손이 발생한다.\n",
        "3km의 길이에 한달 동안 도로파손이 3회 미만 발생할 확률은 얼마인가?"
      ]
    },
    {
      "cell_type": "code",
      "execution_count": 20,
      "metadata": {
        "id": "VlZnsCb9gZl1"
      },
      "outputs": [],
      "source": [
        "# 코드를 작성한다.\n",
        "# 필요하면 코드셀 또는 텍스트셀을 추가할 수 있습니다.\n"
      ]
    },
    {
      "cell_type": "markdown",
      "metadata": {
        "id": "8Pax7MB8gZl1"
      },
      "source": [
        "(3) 주중 출근시간대에 커피 주문이 20분 동안 평균 10번 발생한다.\n",
        "주중 출근시간대에 10분 동안에 7번 이상의 커피주문을 받을 확률은 얼마인가?"
      ]
    },
    {
      "cell_type": "code",
      "execution_count": 21,
      "metadata": {
        "id": "BqdSxdOUgZl1"
      },
      "outputs": [],
      "source": [
        "# 코드를 작성한다.\n",
        "# 필요하면 코드셀 또는 텍스트셀을 추가할 수 있습니다.\n"
      ]
    },
    {
      "cell_type": "markdown",
      "metadata": {
        "id": "H5Il7SHSgZl1"
      },
      "source": [
        "**문제 4 (타이타닉호 승객 나이대 분포)**"
      ]
    },
    {
      "cell_type": "markdown",
      "metadata": {
        "id": "0M2GjtD3gZl1"
      },
      "source": [
        "아래 코드는 타이타닉호의 승객에 대한 정보와 생존 여부를 담은 데이터셋을 불러와서\n",
        "다음 전처리를 실행한다.\n",
        "코드에 대한 보다 자세한 설명은\n",
        "[(연습) 이산 확률 분포](https://colab.research.google.com/github/codingalzi/DataSci/blob/master/practices/practice-probability_discrete.ipynb)를\n",
        "참고한다.\n",
        "\n",
        "- `PassengerId` 특성을 인덱스로 지정\n",
        "- `Embarked` 특성의 결측치를 모두 해당 특성의 최빈값으로 대체\n",
        "- `Age` 특성의 결측치를 성(Sex)별 중앙값으로 대체\n",
        "- `Age` 특성을 10살 단위로 구분하는 연령구간을 지정하여 `Age_Bucket` 특성으로 추가"
      ]
    },
    {
      "cell_type": "code",
      "execution_count": 22,
      "metadata": {
        "id": "n5gp7bfvgZl1"
      },
      "outputs": [],
      "source": [
        "titanic = pd.read_csv(data_url+\"titanic.csv\")\n",
        "titanic = titanic.set_index(\"PassengerId\")\n",
        "\n",
        "embarked_mode =(titanic['Embarked'].mode().values)[0]\n",
        "titanic['Embarked'] = titanic['Embarked'].fillna(embarked_mode)\n",
        "\n",
        "f_mask = titanic[\"Sex\"]==\"female\"\n",
        "f_age_median = titanic.loc[f_mask, \"Age\"].median()\n",
        "m_age_median = titanic.loc[~f_mask, \"Age\"].median()\n",
        "\n",
        "titanic.loc[f_mask, 'Age'] = titanic.loc[f_mask, 'Age'].fillna(f_age_median)\n",
        "titanic.loc[~f_mask, 'Age'] = titanic.loc[~f_mask, 'Age'].fillna(m_age_median)\n",
        "\n",
        "titanic['Age_Bucket'] = (titanic[\"Age\"] // 10 * 10).astype('i8')"
      ]
    },
    {
      "cell_type": "markdown",
      "metadata": {
        "id": "WzgmRFXFgZl1"
      },
      "source": [
        "확률 변수 $X$가 타이타닉 데이터셋에서 임의로 선택된 사람의 나이대를 가리킨다고 하면\n",
        "아래 `prob_age` 변수가 확률 변수 `X`에 대한 확률 분포를,\n",
        "`f_age()` 함수는 확률 질량 함수를 가리킨다."
      ]
    },
    {
      "cell_type": "code",
      "execution_count": 23,
      "metadata": {
        "id": "LC3xTj7XgZl2"
      },
      "outputs": [],
      "source": [
        "age_stratified_count = titanic.loc[:, ['Age_Bucket', 'Age']].groupby('Age_Bucket', observed=True, group_keys=True).count()\n",
        "age_stratified_ratio = age_stratified_count / len(titanic)\n",
        "\n",
        "# 데이터프레임으로 변환\n",
        "prob_age = age_stratified_ratio.iloc[:, 0:1]\n",
        "# 컬럼과 인덱스 이름 지정\n",
        "prob_age.columns = ['확률']\n",
        "prob_age.index.name = 'X'\n",
        "\n",
        "# 가로형의 데이터프레임으로 변환\n",
        "prob_age = prob_age.T"
      ]
    },
    {
      "cell_type": "code",
      "execution_count": 24,
      "metadata": {
        "colab": {
          "base_uri": "https://localhost:8080/",
          "height": 89
        },
        "id": "epnxjjL8gZl2",
        "outputId": "ec19f8e1-a4c0-4716-df6a-44733baeef64"
      },
      "outputs": [
        {
          "output_type": "execute_result",
          "data": {
            "text/plain": [
              "X         0         10        20       30        40        50        60  \\\n",
              "확률  0.069585  0.114478  0.445567  0.18743  0.099888  0.053872  0.021324   \n",
              "\n",
              "X         70        80  \n",
              "확률  0.006734  0.001122  "
            ],
            "text/html": [
              "\n",
              "  <div id=\"df-3580a101-ced5-4fe7-9315-033dbe4135b3\" class=\"colab-df-container\">\n",
              "    <div>\n",
              "<style scoped>\n",
              "    .dataframe tbody tr th:only-of-type {\n",
              "        vertical-align: middle;\n",
              "    }\n",
              "\n",
              "    .dataframe tbody tr th {\n",
              "        vertical-align: top;\n",
              "    }\n",
              "\n",
              "    .dataframe thead th {\n",
              "        text-align: right;\n",
              "    }\n",
              "</style>\n",
              "<table border=\"1\" class=\"dataframe\">\n",
              "  <thead>\n",
              "    <tr style=\"text-align: right;\">\n",
              "      <th>X</th>\n",
              "      <th>0</th>\n",
              "      <th>10</th>\n",
              "      <th>20</th>\n",
              "      <th>30</th>\n",
              "      <th>40</th>\n",
              "      <th>50</th>\n",
              "      <th>60</th>\n",
              "      <th>70</th>\n",
              "      <th>80</th>\n",
              "    </tr>\n",
              "  </thead>\n",
              "  <tbody>\n",
              "    <tr>\n",
              "      <th>확률</th>\n",
              "      <td>0.069585</td>\n",
              "      <td>0.114478</td>\n",
              "      <td>0.445567</td>\n",
              "      <td>0.18743</td>\n",
              "      <td>0.099888</td>\n",
              "      <td>0.053872</td>\n",
              "      <td>0.021324</td>\n",
              "      <td>0.006734</td>\n",
              "      <td>0.001122</td>\n",
              "    </tr>\n",
              "  </tbody>\n",
              "</table>\n",
              "</div>\n",
              "    <div class=\"colab-df-buttons\">\n",
              "\n",
              "  <div class=\"colab-df-container\">\n",
              "    <button class=\"colab-df-convert\" onclick=\"convertToInteractive('df-3580a101-ced5-4fe7-9315-033dbe4135b3')\"\n",
              "            title=\"Convert this dataframe to an interactive table.\"\n",
              "            style=\"display:none;\">\n",
              "\n",
              "  <svg xmlns=\"http://www.w3.org/2000/svg\" height=\"24px\" viewBox=\"0 -960 960 960\">\n",
              "    <path d=\"M120-120v-720h720v720H120Zm60-500h600v-160H180v160Zm220 220h160v-160H400v160Zm0 220h160v-160H400v160ZM180-400h160v-160H180v160Zm440 0h160v-160H620v160ZM180-180h160v-160H180v160Zm440 0h160v-160H620v160Z\"/>\n",
              "  </svg>\n",
              "    </button>\n",
              "\n",
              "  <style>\n",
              "    .colab-df-container {\n",
              "      display:flex;\n",
              "      gap: 12px;\n",
              "    }\n",
              "\n",
              "    .colab-df-convert {\n",
              "      background-color: #E8F0FE;\n",
              "      border: none;\n",
              "      border-radius: 50%;\n",
              "      cursor: pointer;\n",
              "      display: none;\n",
              "      fill: #1967D2;\n",
              "      height: 32px;\n",
              "      padding: 0 0 0 0;\n",
              "      width: 32px;\n",
              "    }\n",
              "\n",
              "    .colab-df-convert:hover {\n",
              "      background-color: #E2EBFA;\n",
              "      box-shadow: 0px 1px 2px rgba(60, 64, 67, 0.3), 0px 1px 3px 1px rgba(60, 64, 67, 0.15);\n",
              "      fill: #174EA6;\n",
              "    }\n",
              "\n",
              "    .colab-df-buttons div {\n",
              "      margin-bottom: 4px;\n",
              "    }\n",
              "\n",
              "    [theme=dark] .colab-df-convert {\n",
              "      background-color: #3B4455;\n",
              "      fill: #D2E3FC;\n",
              "    }\n",
              "\n",
              "    [theme=dark] .colab-df-convert:hover {\n",
              "      background-color: #434B5C;\n",
              "      box-shadow: 0px 1px 3px 1px rgba(0, 0, 0, 0.15);\n",
              "      filter: drop-shadow(0px 1px 2px rgba(0, 0, 0, 0.3));\n",
              "      fill: #FFFFFF;\n",
              "    }\n",
              "  </style>\n",
              "\n",
              "    <script>\n",
              "      const buttonEl =\n",
              "        document.querySelector('#df-3580a101-ced5-4fe7-9315-033dbe4135b3 button.colab-df-convert');\n",
              "      buttonEl.style.display =\n",
              "        google.colab.kernel.accessAllowed ? 'block' : 'none';\n",
              "\n",
              "      async function convertToInteractive(key) {\n",
              "        const element = document.querySelector('#df-3580a101-ced5-4fe7-9315-033dbe4135b3');\n",
              "        const dataTable =\n",
              "          await google.colab.kernel.invokeFunction('convertToInteractive',\n",
              "                                                    [key], {});\n",
              "        if (!dataTable) return;\n",
              "\n",
              "        const docLinkHtml = 'Like what you see? Visit the ' +\n",
              "          '<a target=\"_blank\" href=https://colab.research.google.com/notebooks/data_table.ipynb>data table notebook</a>'\n",
              "          + ' to learn more about interactive tables.';\n",
              "        element.innerHTML = '';\n",
              "        dataTable['output_type'] = 'display_data';\n",
              "        await google.colab.output.renderOutput(dataTable, element);\n",
              "        const docLink = document.createElement('div');\n",
              "        docLink.innerHTML = docLinkHtml;\n",
              "        element.appendChild(docLink);\n",
              "      }\n",
              "    </script>\n",
              "  </div>\n",
              "\n",
              "\n",
              "  <div id=\"id_f8ed6bb7-fd2d-43ff-8907-b25683d03ca9\">\n",
              "    <style>\n",
              "      .colab-df-generate {\n",
              "        background-color: #E8F0FE;\n",
              "        border: none;\n",
              "        border-radius: 50%;\n",
              "        cursor: pointer;\n",
              "        display: none;\n",
              "        fill: #1967D2;\n",
              "        height: 32px;\n",
              "        padding: 0 0 0 0;\n",
              "        width: 32px;\n",
              "      }\n",
              "\n",
              "      .colab-df-generate:hover {\n",
              "        background-color: #E2EBFA;\n",
              "        box-shadow: 0px 1px 2px rgba(60, 64, 67, 0.3), 0px 1px 3px 1px rgba(60, 64, 67, 0.15);\n",
              "        fill: #174EA6;\n",
              "      }\n",
              "\n",
              "      [theme=dark] .colab-df-generate {\n",
              "        background-color: #3B4455;\n",
              "        fill: #D2E3FC;\n",
              "      }\n",
              "\n",
              "      [theme=dark] .colab-df-generate:hover {\n",
              "        background-color: #434B5C;\n",
              "        box-shadow: 0px 1px 3px 1px rgba(0, 0, 0, 0.15);\n",
              "        filter: drop-shadow(0px 1px 2px rgba(0, 0, 0, 0.3));\n",
              "        fill: #FFFFFF;\n",
              "      }\n",
              "    </style>\n",
              "    <button class=\"colab-df-generate\" onclick=\"generateWithVariable('prob_age')\"\n",
              "            title=\"Generate code using this dataframe.\"\n",
              "            style=\"display:none;\">\n",
              "\n",
              "  <svg xmlns=\"http://www.w3.org/2000/svg\" height=\"24px\"viewBox=\"0 0 24 24\"\n",
              "       width=\"24px\">\n",
              "    <path d=\"M7,19H8.4L18.45,9,17,7.55,7,17.6ZM5,21V16.75L18.45,3.32a2,2,0,0,1,2.83,0l1.4,1.43a1.91,1.91,0,0,1,.58,1.4,1.91,1.91,0,0,1-.58,1.4L9.25,21ZM18.45,9,17,7.55Zm-12,3A5.31,5.31,0,0,0,4.9,8.1,5.31,5.31,0,0,0,1,6.5,5.31,5.31,0,0,0,4.9,4.9,5.31,5.31,0,0,0,6.5,1,5.31,5.31,0,0,0,8.1,4.9,5.31,5.31,0,0,0,12,6.5,5.46,5.46,0,0,0,6.5,12Z\"/>\n",
              "  </svg>\n",
              "    </button>\n",
              "    <script>\n",
              "      (() => {\n",
              "      const buttonEl =\n",
              "        document.querySelector('#id_f8ed6bb7-fd2d-43ff-8907-b25683d03ca9 button.colab-df-generate');\n",
              "      buttonEl.style.display =\n",
              "        google.colab.kernel.accessAllowed ? 'block' : 'none';\n",
              "\n",
              "      buttonEl.onclick = () => {\n",
              "        google.colab.notebook.generateWithVariable('prob_age');\n",
              "      }\n",
              "      })();\n",
              "    </script>\n",
              "  </div>\n",
              "\n",
              "    </div>\n",
              "  </div>\n"
            ],
            "application/vnd.google.colaboratory.intrinsic+json": {
              "type": "dataframe",
              "variable_name": "prob_age",
              "summary": "{\n  \"name\": \"prob_age\",\n  \"rows\": 1,\n  \"fields\": [\n    {\n      \"column\": 0,\n      \"properties\": {\n        \"dtype\": \"number\",\n        \"std\": null,\n        \"min\": 0.06958473625140292,\n        \"max\": 0.06958473625140292,\n        \"num_unique_values\": 1,\n        \"samples\": [\n          0.06958473625140292\n        ],\n        \"semantic_type\": \"\",\n        \"description\": \"\"\n      }\n    },\n    {\n      \"column\": 10,\n      \"properties\": {\n        \"dtype\": \"number\",\n        \"std\": null,\n        \"min\": 0.11447811447811448,\n        \"max\": 0.11447811447811448,\n        \"num_unique_values\": 1,\n        \"samples\": [\n          0.11447811447811448\n        ],\n        \"semantic_type\": \"\",\n        \"description\": \"\"\n      }\n    },\n    {\n      \"column\": 20,\n      \"properties\": {\n        \"dtype\": \"number\",\n        \"std\": null,\n        \"min\": 0.44556677890011226,\n        \"max\": 0.44556677890011226,\n        \"num_unique_values\": 1,\n        \"samples\": [\n          0.44556677890011226\n        ],\n        \"semantic_type\": \"\",\n        \"description\": \"\"\n      }\n    },\n    {\n      \"column\": 30,\n      \"properties\": {\n        \"dtype\": \"number\",\n        \"std\": null,\n        \"min\": 0.18742985409652077,\n        \"max\": 0.18742985409652077,\n        \"num_unique_values\": 1,\n        \"samples\": [\n          0.18742985409652077\n        ],\n        \"semantic_type\": \"\",\n        \"description\": \"\"\n      }\n    },\n    {\n      \"column\": 40,\n      \"properties\": {\n        \"dtype\": \"number\",\n        \"std\": null,\n        \"min\": 0.09988776655443322,\n        \"max\": 0.09988776655443322,\n        \"num_unique_values\": 1,\n        \"samples\": [\n          0.09988776655443322\n        ],\n        \"semantic_type\": \"\",\n        \"description\": \"\"\n      }\n    },\n    {\n      \"column\": 50,\n      \"properties\": {\n        \"dtype\": \"number\",\n        \"std\": null,\n        \"min\": 0.05387205387205387,\n        \"max\": 0.05387205387205387,\n        \"num_unique_values\": 1,\n        \"samples\": [\n          0.05387205387205387\n        ],\n        \"semantic_type\": \"\",\n        \"description\": \"\"\n      }\n    },\n    {\n      \"column\": 60,\n      \"properties\": {\n        \"dtype\": \"number\",\n        \"std\": null,\n        \"min\": 0.02132435465768799,\n        \"max\": 0.02132435465768799,\n        \"num_unique_values\": 1,\n        \"samples\": [\n          0.02132435465768799\n        ],\n        \"semantic_type\": \"\",\n        \"description\": \"\"\n      }\n    },\n    {\n      \"column\": 70,\n      \"properties\": {\n        \"dtype\": \"number\",\n        \"std\": null,\n        \"min\": 0.006734006734006734,\n        \"max\": 0.006734006734006734,\n        \"num_unique_values\": 1,\n        \"samples\": [\n          0.006734006734006734\n        ],\n        \"semantic_type\": \"\",\n        \"description\": \"\"\n      }\n    },\n    {\n      \"column\": 80,\n      \"properties\": {\n        \"dtype\": \"number\",\n        \"std\": null,\n        \"min\": 0.001122334455667789,\n        \"max\": 0.001122334455667789,\n        \"num_unique_values\": 1,\n        \"samples\": [\n          0.001122334455667789\n        ],\n        \"semantic_type\": \"\",\n        \"description\": \"\"\n      }\n    }\n  ]\n}"
            }
          },
          "metadata": {},
          "execution_count": 24
        }
      ],
      "source": [
        "prob_age"
      ]
    },
    {
      "cell_type": "markdown",
      "metadata": {
        "id": "TtFS3Q0vgZl2"
      },
      "source": [
        "(1) 확률 변수 `X`의 확률 분포를 그래프로 그려라."
      ]
    },
    {
      "cell_type": "code",
      "execution_count": 25,
      "metadata": {
        "id": "HI_P-zCPgZl2"
      },
      "outputs": [],
      "source": [
        "# 코드를 작성한다.\n",
        "# 필요하면 코드셀 또는 텍스트셀을 추가할 수 있습니다.\n"
      ]
    },
    {
      "cell_type": "markdown",
      "metadata": {
        "id": "ETPnMa1rgZl2"
      },
      "source": [
        "(2) 확률 변수 `X`의 기댓값을 가리키는 변수 `mu_age`를 선언하라."
      ]
    },
    {
      "cell_type": "code",
      "execution_count": 26,
      "metadata": {
        "id": "IE5HrbnggZl2"
      },
      "outputs": [],
      "source": [
        "# 코드를 작성한다.\n",
        "# 필요하면 코드셀 또는 텍스트셀을 추가할 수 있습니다.\n"
      ]
    },
    {
      "cell_type": "markdown",
      "metadata": {
        "id": "nW5uAKI2gZl2"
      },
      "source": [
        "(3) 확률 변수 `X`의 표준편차를 가리키는 변수 `sigma_age`를 선언하라."
      ]
    },
    {
      "cell_type": "code",
      "execution_count": 27,
      "metadata": {
        "id": "NCpmmmfKgZl2"
      },
      "outputs": [],
      "source": [
        "# 코드를 작성한다.\n",
        "# 필요하면 코드셀 또는 텍스트셀을 추가할 수 있습니다.\n"
      ]
    },
    {
      "cell_type": "markdown",
      "metadata": {
        "id": "atVJnQ9vgZl2"
      },
      "source": [
        "(4) 확률 변수 `X`가 가리키는 나이대는 10살 기준으로 구분하였다.\n",
        "나이대별 평균 나이를 가리키는 확률 변수 `Y`를 확률 변수 `X`의 선형 변환으로 정의하라."
      ]
    },
    {
      "cell_type": "code",
      "execution_count": 28,
      "metadata": {
        "id": "8C2wUIYQgZl3"
      },
      "outputs": [],
      "source": [
        "# 코드를 작성한다.\n",
        "# 필요하면 코드셀 또는 텍스트셀을 추가할 수 있습니다.\n"
      ]
    },
    {
      "cell_type": "markdown",
      "metadata": {
        "id": "UktP5-KmgZl3"
      },
      "source": [
        "(5) 확률 변수 `Y`의 기댓값과 표준편차를 확률 변수 선형 변환 공식을 이용하여 계산하라."
      ]
    },
    {
      "cell_type": "code",
      "execution_count": 29,
      "metadata": {
        "id": "b9QIZ3BbgZl3"
      },
      "outputs": [],
      "source": [
        "# 코드를 작성한다.\n",
        "# 필요하면 코드셀 또는 텍스트셀을 추가할 수 있습니다.\n"
      ]
    },
    {
      "cell_type": "markdown",
      "metadata": {
        "id": "bph2ZMxfgZl3"
      },
      "source": [
        "## 연속 확률 변수에 대한 기댓값과 분산"
      ]
    },
    {
      "cell_type": "markdown",
      "metadata": {
        "id": "xs6CdsH4gZl3"
      },
      "source": [
        "**지수 분포**"
      ]
    },
    {
      "cell_type": "markdown",
      "metadata": {
        "id": "SGjw0gxMgZl3"
      },
      "source": [
        "포아송 분포를 따르는 사건이 발생한 후에 다시 발생할 때까지 걸리는 시간에 대한 연속 확률 변수가 따르는 확률 분포를\n",
        "**지수 분포**<font size='2'>exponential distribution</font>라 부른다.\n",
        "지수 분포의 확률 밀도 함수는 다음과 같다.\n",
        "\n",
        "- $x$: 확률 변수 $X$가 가리키는 값, 마지막 사건 발생 후 경과한 시간.\n",
        "- $\\lambda$: 포아송 분포의 모수. 즉, 단위 시간 동안 어떤 사건이 무작위로 발생하는 빈도를 가리키는 파라미터.\n",
        "\n",
        "$$\n",
        "f(x) = \\lambda\\, e^{-\\lambda x}\n",
        "$$"
      ]
    },
    {
      "cell_type": "markdown",
      "metadata": {
        "id": "lEOGE0wDgZl3"
      },
      "source": [
        "지수 분포를 따르는 확률 변수 $X$의 누적 분포 함수는 확률 밀도 함수의 적분 함수로 다음과 같다.\n",
        "단, $x$는 양의 실수를 가리킨다.\n",
        "\n",
        "$$\n",
        "P(X \\le x) = F(x) = 1 - e^{-\\lambda x}\n",
        "$$"
      ]
    },
    {
      "cell_type": "markdown",
      "metadata": {
        "id": "bNUPXZXGgZl3"
      },
      "source": [
        "음의 실수 $x$에 대해서는 $f(x)$ 와 $F(x)$ 모두 0으로 선언된다."
      ]
    },
    {
      "cell_type": "markdown",
      "metadata": {
        "id": "NrUA6SC2gZl3"
      },
      "source": [
        "지수 분포를 따르는 확률 변수 `X`에 대한 기댓값과 분산은 다음과 같으며 증명은 생략한다.\n",
        "\n",
        "$$\n",
        "E[X] = \\frac{1}{\\lambda}, \\qquad V(X) = \\frac{1}{\\lambda^2}\n",
        "$$"
      ]
    },
    {
      "cell_type": "markdown",
      "metadata": {
        "id": "LJ8qyuT6gZl4"
      },
      "source": [
        "아래 `f_expon()` 함수는 지수 분포의 확률 밀도 함수를 구현하며\n",
        "앞서 설명한 두 개의 매개 변수를 사용한다."
      ]
    },
    {
      "cell_type": "code",
      "execution_count": 30,
      "metadata": {
        "id": "3CqKZktKgZl4"
      },
      "outputs": [],
      "source": [
        "def f_expon(x, lam):\n",
        "    if x >= 0:\n",
        "        return lam * np.exp(-lam * x)\n",
        "    else:\n",
        "        return 0"
      ]
    },
    {
      "cell_type": "markdown",
      "metadata": {
        "id": "tE7ZNB7FgZl4"
      },
      "source": [
        "`F_expon()` 함수는 지수 분포의 누적 분포 함수를 구현한다."
      ]
    },
    {
      "cell_type": "code",
      "execution_count": 31,
      "metadata": {
        "id": "gS9Sb0qtgZl4"
      },
      "outputs": [],
      "source": [
        "def F_expon(x, lam):\n",
        "    if x >= 0:\n",
        "        return 1 - np.exp(-lam * x)\n",
        "    else:\n",
        "        return 0"
      ]
    },
    {
      "cell_type": "markdown",
      "metadata": {
        "id": "8V_32AFngZl4"
      },
      "source": [
        "**문제 4 (지수 분포)**"
      ]
    },
    {
      "cell_type": "markdown",
      "metadata": {
        "id": "UJ9k1C8WgZl4"
      },
      "source": [
        "병원에서 하루 평균 5명의 응급환자가 발생하고,\n",
        "마지막 응급환자 이후에 다른 응급 환자가 발생할 때까지 걸리는\n",
        "시간을 확률 변수 $X$가 가리킨다고 가정하자."
      ]
    },
    {
      "cell_type": "markdown",
      "metadata": {
        "id": "UyKuswJigZl4"
      },
      "source": [
        "(1) 마지막 응급환자 이후에 3시간 이내에 다시 응급환자가 발생할 확률을 계산하라."
      ]
    },
    {
      "cell_type": "code",
      "execution_count": 32,
      "metadata": {
        "id": "W3oxB0F-gZl4"
      },
      "outputs": [],
      "source": [
        "# 코드를 작성한다.\n",
        "# 필요하면 코드셀 또는 텍스트셀을 추가할 수 있습니다.\n"
      ]
    },
    {
      "cell_type": "markdown",
      "metadata": {
        "id": "sgSXsTMngZl4"
      },
      "source": [
        "(2) 병원에서 3시간에서 5시간 사이에 새로운 응급환자가 발생할 확률을 계산하라."
      ]
    },
    {
      "cell_type": "code",
      "execution_count": 33,
      "metadata": {
        "id": "tq-id31BgZl5"
      },
      "outputs": [],
      "source": [
        "# 코드를 작성한다.\n",
        "# 필요하면 코드셀 또는 텍스트셀을 추가할 수 있습니다.\n"
      ]
    },
    {
      "cell_type": "markdown",
      "metadata": {
        "id": "xhPNDXstgZl5"
      },
      "source": [
        "(3) $\\lambda$ 가 1, 3, 5일 때의 지수 분포에 대한 확률 밀도 함수의 선그래프가 변하는 모양을 확인하라."
      ]
    },
    {
      "cell_type": "code",
      "execution_count": 34,
      "metadata": {
        "id": "IYq14mX3gZl5"
      },
      "outputs": [],
      "source": [
        "# 코드를 작성한다.\n",
        "# 필요하면 코드셀 또는 텍스트셀을 추가할 수 있습니다.\n"
      ]
    },
    {
      "cell_type": "markdown",
      "metadata": {
        "id": "8_bYqLqwgZl5"
      },
      "source": [
        "**문제 5 (지수 분포)**"
      ]
    },
    {
      "cell_type": "markdown",
      "metadata": {
        "id": "YABptAT9gZl5"
      },
      "source": [
        "`scipy.stats` 모듈의 `expon` 객체가 지수 분포를 갖는 확률 변수를 가리킨다.\n",
        "`expon` 은 `scipy.stats` 모듈의 `rv_continuous` 클래스의 인스턴스이며,\n",
        "확률 밀도 함수(pdf), 누적 분포 함수(cdf) 등 연속 확률 분포의 기본 기능을\n",
        "인스턴스 메서드로 제공한다."
      ]
    },
    {
      "cell_type": "code",
      "execution_count": 35,
      "metadata": {
        "id": "s2WhD5ARgZl5"
      },
      "outputs": [],
      "source": [
        "from scipy.stats import expon"
      ]
    },
    {
      "cell_type": "markdown",
      "metadata": {
        "id": "-PWwM9WYgZl5"
      },
      "source": [
        "지수 분포를 선언할 때 필요한 포아송 분포의 모수 $\\lambda$는\n",
        "`expon` 객체를 선언할 때 필요한 `scale` 키워드 인자의 값으로 지정된다.\n",
        "단 $\\lambda$가 아닌 $1/\\lambda$을 사용함에 주의한다.\n",
        "\n",
        "예를 들어, 일평균 5명의 응급환자가 발생하는 병원에서 새로운 응급환자가 발생할 때까지의\n",
        "시간을 가리키는 확률 변수 객체는 다음과 같이 선언된다."
      ]
    },
    {
      "cell_type": "code",
      "execution_count": 36,
      "metadata": {
        "id": "synbveWrgZl5"
      },
      "outputs": [],
      "source": [
        "rv_expon_1over5 = expon(scale=1/5)"
      ]
    },
    {
      "cell_type": "markdown",
      "metadata": {
        "id": "Jk6vluyCgZl5"
      },
      "source": [
        "새로운 응급환자가 3분 이내에 발생할 확률은 다음과 같다."
      ]
    },
    {
      "cell_type": "code",
      "execution_count": 37,
      "metadata": {
        "colab": {
          "base_uri": "https://localhost:8080/"
        },
        "id": "6Y78ZMg1gZl5",
        "outputId": "7c73e098-8232-431b-f312-3d87f97ca86c"
      },
      "outputs": [
        {
          "output_type": "execute_result",
          "data": {
            "text/plain": [
              "np.float64(0.4647385714810097)"
            ]
          },
          "metadata": {},
          "execution_count": 37
        }
      ],
      "source": [
        "rv_expon_1over5.cdf(3/24)"
      ]
    },
    {
      "cell_type": "markdown",
      "metadata": {
        "id": "mDtJP548gZl6"
      },
      "source": [
        "계산된 확률이 앞서 `F_expon()` 함수를 이용하여 계산된 `F_expon(3/24, 5)` 와 동일하다."
      ]
    },
    {
      "cell_type": "code",
      "execution_count": 38,
      "metadata": {
        "colab": {
          "base_uri": "https://localhost:8080/"
        },
        "id": "3dplU0wfgZl6",
        "outputId": "389b9f76-57eb-47a5-8e1c-b721f7fecbb2"
      },
      "outputs": [
        {
          "output_type": "execute_result",
          "data": {
            "text/plain": [
              "np.float64(0.4647385714810097)"
            ]
          },
          "metadata": {},
          "execution_count": 38
        }
      ],
      "source": [
        "F_expon(3/24, 5)"
      ]
    },
    {
      "cell_type": "markdown",
      "metadata": {
        "id": "fAXNVQnbgZl6"
      },
      "source": [
        "`poisson` 객체를 이용하여 아래 질문에 답하라."
      ]
    },
    {
      "cell_type": "markdown",
      "metadata": {
        "id": "nANiCuh2gZl6"
      },
      "source": [
        "(1) 시간당 평균 5회 사용자 접속이 발생하는 웹페이지가 있다.\n",
        "마지막 사용자 접속 후 1분 이내에 새로운 사용자 접속이 발생할 확률은 얼마인가?"
      ]
    },
    {
      "cell_type": "code",
      "execution_count": 39,
      "metadata": {
        "id": "Wj_FYaHPgZl6"
      },
      "outputs": [],
      "source": [
        "# 코드를 작성한다.\n",
        "# 필요하면 코드셀 또는 텍스트셀을 추가할 수 있습니다.\n"
      ]
    },
    {
      "cell_type": "markdown",
      "metadata": {
        "id": "PDhboltHgZl6"
      },
      "source": [
        "(2) 어느 회사의 스마트폰의 평균 수명이 3년일 때, 해당 회사의 스마트폰을 새로 구입했을 때\n",
        "5년 이상 고장 없이 사용하게될 확률은 얼마인가?"
      ]
    },
    {
      "cell_type": "code",
      "execution_count": 40,
      "metadata": {
        "id": "IjrIwtDlgZl6"
      },
      "outputs": [],
      "source": [
        "# 코드를 작성한다.\n",
        "# 필요하면 코드셀 또는 텍스트셀을 추가할 수 있습니다.\n"
      ]
    },
    {
      "cell_type": "markdown",
      "metadata": {
        "id": "GoNvBUgtgZl6"
      },
      "source": [
        "(3) 진료 대기 시간이 평균 6분인 병원에 도착해서 3분에서 10분 사이에 진료를 받을 확률은 얼마인가?"
      ]
    },
    {
      "cell_type": "code",
      "execution_count": 41,
      "metadata": {
        "id": "ewS1fxlogZl6"
      },
      "outputs": [],
      "source": [
        "# 코드를 작성한다.\n",
        "# 필요하면 코드셀 또는 텍스트셀을 추가할 수 있습니다.\n"
      ]
    },
    {
      "cell_type": "markdown",
      "source": [
        "#ㄴㅇㄻ"
      ],
      "metadata": {
        "id": "fRJhBTsoFgFz"
      }
    },
    {
      "cell_type": "code",
      "source": [
        "from scipy.special import factorial\n",
        "\n",
        "def f_poisson(x, lam):\n",
        "    if x in range(21):\n",
        "        return np.power(lam, x) * np.exp(-lam) / factorial(x)\n",
        "    else:\n",
        "        return 0"
      ],
      "metadata": {
        "id": "JJnByql3FnHd"
      },
      "execution_count": null,
      "outputs": []
    },
    {
      "cell_type": "code",
      "source": [
        "import numpy as np\n",
        "from scipy.stats import poisson\n",
        "\n",
        "lam = 745\n",
        "\n",
        "pmf_scipy = poisson.pmf(10, lam)\n",
        "f_poisson(10,lam)"
      ],
      "metadata": {
        "colab": {
          "base_uri": "https://localhost:8080/"
        },
        "id": "TFxYA9NwIDvV",
        "outputId": "be465b7a-211e-49c7-9b25-086a6af401e2"
      },
      "execution_count": 94,
      "outputs": [
        {
          "output_type": "execute_result",
          "data": {
            "text/plain": [
              "np.float64(7.171076433516042e-302)"
            ]
          },
          "metadata": {},
          "execution_count": 94
        }
      ]
    },
    {
      "cell_type": "code",
      "source": [
        "import numpy as np\n",
        "from scipy.stats import poisson\n",
        "\n",
        "lam = 746\n",
        "\n",
        "pmf_scipy = poisson.pmf(10, lam)\n",
        "f_poisson(10,lam)"
      ],
      "metadata": {
        "colab": {
          "base_uri": "https://localhost:8080/"
        },
        "id": "StgDMzcVFjH-",
        "outputId": "89a5f9f1-3144-4014-91e9-a8551d48fb3c"
      },
      "execution_count": 93,
      "outputs": [
        {
          "output_type": "execute_result",
          "data": {
            "text/plain": [
              "np.float64(0.0)"
            ]
          },
          "metadata": {},
          "execution_count": 93
        }
      ]
    },
    {
      "cell_type": "code",
      "source": [
        "import numpy as np\n",
        "import matplotlib.pyplot as plt\n",
        "from scipy.stats import poisson\n",
        "from scipy.special import factorial, gammaln\n",
        "\n",
        "# 다양한 λ 값 설정\n",
        "lambdas = [10, 100, 500, 1000, 5000, 10000]\n",
        "x_offsets = np.arange(-3, 4)  # λ ± 3 범위\n",
        "\n",
        "# 포아송 PMF 함수 정의\n",
        "def f_poisson(x, lam):\n",
        "    return np.exp(-lam) * lam**x / factorial(x)\n",
        "\n",
        "def log_space_pmf(x, lam):\n",
        "    return np.exp(-lam + x * np.log(lam) - gammaln(x + 1))\n",
        "\n",
        "# 시각화 시작\n",
        "plt.figure(figsize=(16, 10))\n",
        "\n",
        "for i, lam in enumerate(lambdas, 1):\n",
        "    x_vals = lam + x_offsets\n",
        "\n",
        "    naive_pmf = np.array([f_poisson(x, lam) for x in x_vals])\n",
        "    log_pmf = np.array([log_space_pmf(x, lam) for x in x_vals])\n",
        "    scipy_pmf = poisson.pmf(x_vals, mu=lam)\n",
        "\n",
        "    plt.subplot(2, 3, i)\n",
        "    plt.plot(x_vals, naive_pmf, 'o--', label='Naive')\n",
        "    plt.plot(x_vals, log_pmf, 's:', label='Log-space')\n",
        "    plt.plot(x_vals, scipy_pmf, 'x-', label='Scipy')\n",
        "    plt.yscale('log')\n",
        "    plt.title(f'λ = {lam}')\n",
        "    plt.xlabel('x')\n",
        "    plt.ylabel('P(X = x)')\n",
        "    plt.grid(True)\n",
        "    plt.legend(fontsize=8)\n",
        "\n",
        "plt.tight_layout()\n",
        "plt.suptitle('Poisson PMF Comparison for Increasing λ', fontsize=16, y=1.02)\n",
        "plt.show()"
      ],
      "metadata": {
        "colab": {
          "base_uri": "https://localhost:8080/",
          "height": 1000
        },
        "id": "JgWR1x0sGCVC",
        "outputId": "99781586-ad84-4f5d-98ed-4abfd26310eb"
      },
      "execution_count": 68,
      "outputs": [
        {
          "output_type": "display_data",
          "data": {
            "text/plain": [
              "<Figure size 1600x1000 with 6 Axes>"
            ],
            "image/png": "[encoded data removed]"
          },
          "metadata": {}
        }
      ]
    }
  ],
  "metadata": {
    "kernelspec": {
      "display_name": "Python 3 (ipykernel)",
      "language": "python",
      "name": "python3"
    },
    "language_info": {
      "codemirror_mode": {
        "name": "ipython",
        "version": 3
      },
      "file_extension": ".py",
      "mimetype": "text/x-python",
      "name": "python",
      "nbconvert_exporter": "python",
      "pygments_lexer": "ipython3",
      "version": "3.12.2"
    },
    "toc": {
      "nav_menu": {},
      "number_sections": true,
      "sideBar": true,
      "skip_h1_title": false,
      "toc_cell": false,
      "toc_position": {},
      "toc_section_display": "block",
      "toc_window_display": false
    },
    "colab": {
      "provenance": [],
      "include_colab_link": true
    }
  },
  "nbformat": 4,
  "nbformat_minor": 0
}